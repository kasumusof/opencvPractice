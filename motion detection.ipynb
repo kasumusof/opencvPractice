{
 "cells": [
  {
   "cell_type": "code",
   "execution_count": 1,
   "metadata": {},
   "outputs": [],
   "source": [
    "import cv2 as cv\n",
    "import numpy as np"
   ]
  },
  {
   "cell_type": "markdown",
   "metadata": {},
   "source": [
    "#### The video was obtained from opencv github repository. Here is a [link](https://github.com/opencv/opencv/tree/master/samples/data) to the folder containing the file."
   ]
  },
  {
   "cell_type": "code",
   "execution_count": 7,
   "metadata": {},
   "outputs": [],
   "source": [
    "# To reading the video file\n",
    "cap = cv.VideoCapture('vtest.avi')\n",
    "\n",
    "\n",
    "_, frame1 = cap.read()\n",
    "_, frame2 = cap.read()\n",
    "\n",
    "\n",
    "while cap.isOpened():\n",
    "    \n",
    "    diff = cv.absdiff(frame1, frame2)\n",
    "    \n",
    "    gray = cv.cvtColor(diff, cv.COLOR_BGR2GRAY)\n",
    "    g_b = cv.GaussianBlur(gray, (5,5), 0)\n",
    "    _, thresh = cv.threshold(g_b, 20, 255, cv.THRESH_BINARY)\n",
    "    dilated = cv.dilate(thresh, None, iterations=3)\n",
    "    contours, _ = cv.findContours(dilated, cv.RETR_TREE, cv.CHAIN_APPROX_SIMPLE)\n",
    "    \n",
    "    \n",
    "    for contour in contours:\n",
    "        (x,y,w,h) = cv.boundingRect(contour)\n",
    "        \n",
    "        if cv.contourArea(contour) < 900:\n",
    "            continue # This would do nothing if the contour area is less than 900\n",
    "        cv.rectangle(frame1, (x,y), (x+w,y+h), (0,0,255), 2) \n",
    "        # To add a text on image when motion is detected.\n",
    "        cv.putText(frame1,'Status: movement', (10,20), cv.FONT_HERSHEY_SIMPLEX, \n",
    "                  1, (255,0,0),3)\n",
    "    \n",
    "    cv.imshow('VideoFeed', frame1)\n",
    "    \n",
    "    frame1 = frame2\n",
    "    ret, frame2 = cap.read()\n",
    "    \n",
    "    if cv.waitKey(40) == 27:\n",
    "        break\n",
    "\n",
    "        \n",
    "cap.release()\n",
    "cv.destroyAllWindows()\n"
   ]
  },
  {
   "cell_type": "code",
   "execution_count": null,
   "metadata": {},
   "outputs": [],
   "source": []
  },
  {
   "cell_type": "code",
   "execution_count": null,
   "metadata": {},
   "outputs": [],
   "source": []
  },
  {
   "cell_type": "code",
   "execution_count": null,
   "metadata": {},
   "outputs": [],
   "source": []
  }
 ],
 "metadata": {
  "kernelspec": {
   "display_name": "Python 3",
   "language": "python",
   "name": "python3"
  },
  "language_info": {
   "codemirror_mode": {
    "name": "ipython",
    "version": 3
   },
   "file_extension": ".py",
   "mimetype": "text/x-python",
   "name": "python",
   "nbconvert_exporter": "python",
   "pygments_lexer": "ipython3",
   "version": "3.7.1"
  }
 },
 "nbformat": 4,
 "nbformat_minor": 2
}
